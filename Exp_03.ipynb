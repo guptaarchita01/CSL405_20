{
  "nbformat": 4,
  "nbformat_minor": 0,
  "metadata": {
    "colab": {
      "provenance": []
    },
    "kernelspec": {
      "name": "python3",
      "display_name": "Python 3"
    },
    "language_info": {
      "name": "python"
    }
  },
  "cells": [
    {
      "cell_type": "markdown",
      "source": [
        "Experiment_03\n"
      ],
      "metadata": {
        "id": "sPh3dglHe0f7"
      }
    },
    {
      "cell_type": "code",
      "execution_count": 8,
      "metadata": {
        "colab": {
          "base_uri": "https://localhost:8080/"
        },
        "id": "zVvp0NXSevT2",
        "outputId": "1972b525-0cbb-4c05-bdd6-1adad3cac4f8"
      },
      "outputs": [
        {
          "output_type": "stream",
          "name": "stdout",
          "text": [
            "Lines: 2\n",
            "Words: 10\n",
            "Characters: 46\n"
          ]
        }
      ],
      "source": [
        "with open('file.txt','w' ) as file:\n",
        "  file.write('this is a new file\\n')\n",
        "with open('file.txt','a' ) as file:\n",
        "  file.write('this is experiment number 3')\n",
        "if __name__ == '__main__':\n",
        "    with open ('./file.txt', 'r') as file:\n",
        "        lines = file.readlines ()\n",
        "        numberOfLines = len (lines)\n",
        "        numberOfWords = sum (len (line.split()) for line in lines)\n",
        "\n",
        "        # Write numberOfCharacters over here.\n",
        "        numberOfCharacters = sum (len (line) for line in lines)\n",
        "\n",
        "    print(f\"Lines: {numberOfLines}\")\n",
        "    print(f\"Words: {numberOfWords}\")\n",
        "    print(f\"Characters: {numberOfCharacters}\")"
      ]
    },
    {
      "cell_type": "code",
      "source": [],
      "metadata": {
        "id": "lRaW1LtFe7S0"
      },
      "execution_count": 8,
      "outputs": []
    }
  ]
}