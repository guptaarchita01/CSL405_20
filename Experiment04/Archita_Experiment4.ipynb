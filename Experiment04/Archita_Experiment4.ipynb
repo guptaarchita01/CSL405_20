{
  "nbformat": 4,
  "nbformat_minor": 0,
  "metadata": {
    "colab": {
      "provenance": []
    },
    "kernelspec": {
      "name": "python3",
      "display_name": "Python 3"
    },
    "language_info": {
      "name": "python"
    }
  },
  "cells": [
    {
      "cell_type": "markdown",
      "source": [
        "Archita Gupta"
      ],
      "metadata": {
        "id": "lUZsFrS1XXCt"
      }
    },
    {
      "cell_type": "markdown",
      "source": [
        "Roll No:20"
      ],
      "metadata": {
        "id": "JOAFiLZUXbpX"
      }
    },
    {
      "cell_type": "code",
      "execution_count": 7,
      "metadata": {
        "colab": {
          "base_uri": "https://localhost:8080/"
        },
        "id": "td-1Z-DQXGMv",
        "outputId": "99e83b0a-d66c-4aa4-90dc-37f82f97869d"
      },
      "outputs": [
        {
          "output_type": "stream",
          "name": "stdout",
          "text": [
            "Files in the current directory:\n",
            "file.text\n"
          ]
        }
      ],
      "source": [
        "import os\n",
        "#with open(\"file.text\",\"w\") as file:\n",
        " #file.write(\"File opened\")\n",
        "files = [f for f in os.listdir('.') if os.path.isfile(f)]\n",
        "\n",
        "print(\"Files in the current directory:\")\n",
        "for file in files:\n",
        "    print(file)\n",
        "\n"
      ]
    },
    {
      "cell_type": "code",
      "source": [
        "from pathlib import Path\n",
        "\n",
        "files = [f.name for f in Path('.').iterdir() if f.is_file()]\n",
        "\n",
        "print(\"Files in the current directory:\")\n",
        "for file in files:\n",
        "    print(file)"
      ],
      "metadata": {
        "colab": {
          "base_uri": "https://localhost:8080/"
        },
        "id": "JqhzfkQ8XkGo",
        "outputId": "6a73d8f3-b7d7-4c3d-e9fe-382764bdc821"
      },
      "execution_count": 8,
      "outputs": [
        {
          "output_type": "stream",
          "name": "stdout",
          "text": [
            "Files in the current directory:\n",
            "file.text\n"
          ]
        }
      ]
    }
  ]
}
