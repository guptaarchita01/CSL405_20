{
  "nbformat": 4,
  "nbformat_minor": 0,
  "metadata": {
    "colab": {
      "provenance": []
    },
    "kernelspec": {
      "name": "python3",
      "display_name": "Python 3"
    },
    "language_info": {
      "name": "python"
    }
  },
  "cells": [
    {
      "cell_type": "markdown",
      "source": [
        "Archita Gupta-20"
      ],
      "metadata": {
        "id": "2XhJIgb3Yxat"
      }
    },
    {
      "cell_type": "code",
      "source": [
        "class StackDepth:\n",
        "    def maximumDepth(self, stringInput: str) -> int:\n",
        "        stack = []\n",
        "        max_depth = 0\n",
        "\n",
        "        # Iterate through each character in the string\n",
        "        for char in stringInput:\n",
        "            if char == '(':\n",
        "                stack.append(char)  # Push to the stack for opening parenthesis\n",
        "                max_depth = max(max_depth, len(stack))  # Update max_depth\n",
        "            elif char == ')':\n",
        "                stack.pop()  # Pop from the stack for closing parenthesis\n",
        "\n",
        "        return max_depth\n",
        "\n",
        "def main():\n",
        "    # Create an instance of StackDepth\n",
        "    stack_depth = StackDepth()\n",
        "\n",
        "    while True:\n",
        "        # Take input from the user\n",
        "        user_input = input(\"Enter a valid parentheses string (or type 'exit' to quit): \")\n",
        "\n",
        "        # Break the loop if the user types 'exit'\n",
        "        if user_input.lower() == 'exit':\n",
        "            print(\"Exiting the program...\")\n",
        "            break\n",
        "\n",
        "        # Call the method to compute the maximum nesting depth\n",
        "        result = stack_depth.maximumDepth(user_input)\n",
        "\n",
        "        # Display the result\n",
        "        print(f\"The maximum nesting depth is: {result}\\n\")\n",
        "\n",
        "# Run the main function\n",
        "main()\n"
      ],
      "metadata": {
        "colab": {
          "base_uri": "https://localhost:8080/"
        },
        "id": "7ZEUR0IZcncl",
        "outputId": "760d434d-08a3-4ba3-a7de-41f5a38f99fe"
      },
      "execution_count": 3,
      "outputs": [
        {
          "output_type": "stream",
          "name": "stdout",
          "text": [
            "Enter a valid parentheses string (or type 'exit' to quit): (((2+3)-(8*4)*2)/4)-(12*2)\n",
            "The maximum nesting depth is: 3\n",
            "\n",
            "Enter a valid parentheses string (or type 'exit' to quit): exit\n",
            "Exiting the program...\n"
          ]
        }
      ]
    }
  ]
}