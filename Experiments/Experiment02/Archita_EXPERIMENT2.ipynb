{
  "cells": [
    {
      "cell_type": "code",
      "execution_count": null,
      "metadata": {
        "colab": {
          "base_uri": "https://localhost:8080/"
        },
        "id": "Do2l_P36RUrK",
        "outputId": "a20be34a-94f9-4e97-8b23-ac26750ec82b"
      },
      "outputs": [
        {
          "name": "stdout",
          "output_type": "stream",
          "text": [
            "Is the employee a Frontend Developer? (yes/no):yes\n",
            "Is the employee a Backend Developer? (yes/no): no\n",
            "Designation Type: Frontend Developer\n"
          ]
        }
      ],
      "source": [
        "\n",
        "class Employee:\n",
        "    def __init__ (\n",
        "            self,\n",
        "            designation : str = 'Developer',\n",
        "            frontend : bool = False,\n",
        "            backend : bool = False\n",
        "    ):\n",
        "        self.designation = designation\n",
        "        self.frontend = frontend\n",
        "        self.backend = backend\n",
        "\n",
        "    def __repr__ (self):\n",
        "        return '{}'.format (self.designation, self.frontend, self.backend)\n",
        "\n",
        "    ### Write the your method over here.\n",
        "    def verifier (self):\n",
        "        if self .frontend and self.backend:\n",
        "            return \"Full Stack Developer\"\n",
        "        elif self.frontend:\n",
        "            return \"Frontend Developer\"\n",
        "        elif self.backend:\n",
        "            return \"Backend Developer\"\n",
        "        else:\n",
        "            return \"Not a Developer\"\n",
        "\n",
        "if __name__ == '__main__':\n",
        "     frontend_input=input(\"Is the employee a Frontend Developer? (yes/no):\").strip().lower()\n",
        "     backend_input=input(\"Is the employee a Backend Developer? (yes/no): \").strip().lower()\n",
        "\n",
        "     frontend = True if frontend_input ==\"yes\" else False\n",
        "     backend = True if backend_input ==\"yes\" else False\n",
        "\n",
        "     employee = Employee(frontend=frontend, backend=backend)\n",
        "     print(\"Designation Type:\", employee.verifier())\n"
      ]
    },
    {
      "cell_type": "code",
      "execution_count": null,
      "metadata": {
        "id": "VEynUKsbYNwn"
      },
      "outputs": [],
      "source": []
    }
  ],
  "metadata": {
    "colab": {
      "provenance": []
    },
    "kernelspec": {
      "display_name": "Python 3",
      "name": "python3"
    },
    "language_info": {
      "name": "python"
    }
  },
  "nbformat": 4,
  "nbformat_minor": 0
}
