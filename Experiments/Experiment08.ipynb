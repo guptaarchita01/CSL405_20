{
  "nbformat": 4,
  "nbformat_minor": 0,
  "metadata": {
    "colab": {
      "provenance": []
    },
    "kernelspec": {
      "name": "python3",
      "display_name": "Python 3"
    },
    "language_info": {
      "name": "python"
    }
  },
  "cells": [
    {
      "cell_type": "markdown",
      "source": [
        "Archita Gupta-20"
      ],
      "metadata": {
        "id": "WkMDduX7i9_K"
      }
    },
    {
      "cell_type": "markdown",
      "source": [
        "Experiment 08"
      ],
      "metadata": {
        "id": "Kmw0sJnmmr1k"
      }
    },
    {
      "cell_type": "code",
      "execution_count": 3,
      "metadata": {
        "colab": {
          "base_uri": "https://localhost:8080/"
        },
        "id": "0KD_6_oki19b",
        "outputId": "c62ea99e-f72a-4ef5-8384-c452cb6dc104"
      },
      "outputs": [
        {
          "output_type": "stream",
          "name": "stdout",
          "text": [
            "Enter the number of iterations for each thread: 3\n",
            "Thread 1 - Number: 1Thread 2 - Letter: A\n",
            "\n",
            "Thread 3 - Square of 1: 1\n",
            "Thread 2 - Letter: B\n",
            "Thread 3 - Square of 2: 4\n",
            "Thread 1 - Number: 2\n",
            "Thread 3 - Square of 3: 9\n",
            "Thread 1 - Number: 3\n",
            "Thread 2 - Letter: C\n",
            "All threads have finished executing.\n"
          ]
        }
      ],
      "source": [
        "import threading\n",
        "import time\n",
        "\n",
        "def print_numbers(count):\n",
        "    for i in range(1, count + 1):\n",
        "        print(f\"Thread 1 - Number: {i}\")\n",
        "        time.sleep(1)\n",
        "\n",
        "def print_letters(count):\n",
        "    for i in range(count):\n",
        "        letter = chr(65 + i)  # 65 is the ASCII value of 'A'\n",
        "        print(f\"Thread 2 - Letter: {letter}\")\n",
        "        time.sleep(1)\n",
        "\n",
        "def print_squares(count):\n",
        "    for i in range(1, count + 1):\n",
        "        print(f\"Thread 3 - Square of {i}: {i ** 2}\")\n",
        "        time.sleep(1)\n",
        "\n",
        "# Get user input for the number of iterations\n",
        "count = int(input(\"Enter the number of iterations for each thread: \"))\n",
        "\n",
        "# Creating threads with the user-defined count\n",
        "thread1 = threading.Thread(target=print_numbers, args=(count,))\n",
        "thread2 = threading.Thread(target=print_letters, args=(count,))\n",
        "thread3 = threading.Thread(target=print_squares, args=(count,))\n",
        "\n",
        "# Starting threads\n",
        "thread1.start()\n",
        "thread2.start()\n",
        "thread3.start()\n",
        "\n",
        "# Ensuring all threads complete\n",
        "thread1.join()\n",
        "thread2.join()\n",
        "thread3.join()\n",
        "\n",
        "print(\"All threads have finished executing.\")\n"
      ]
    }
  ]
}
