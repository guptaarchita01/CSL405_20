{
  "nbformat": 4,
  "nbformat_minor": 0,
  "metadata": {
    "colab": {
      "provenance": []
    },
    "kernelspec": {
      "name": "python3",
      "display_name": "Python 3"
    },
    "language_info": {
      "name": "python"
    }
  },
  "cells": [
    {
      "cell_type": "markdown",
      "source": [
        "**Experiment09**"
      ],
      "metadata": {
        "id": "HMxgNtx4j62A"
      }
    },
    {
      "cell_type": "markdown",
      "source": [
        "**20_Archita Gupta**"
      ],
      "metadata": {
        "id": "99D2ShX0j1C4"
      }
    },
    {
      "cell_type": "code",
      "execution_count": 1,
      "metadata": {
        "colab": {
          "base_uri": "https://localhost:8080/"
        },
        "id": "5TBN3_WQjied",
        "outputId": "49d50f9c-cf68-4d41-828f-f292cdab6e8d"
      },
      "outputs": [
        {
          "output_type": "stream",
          "name": "stdout",
          "text": [
            "1. Array Creation Techniques\n",
            "\n",
            "2. NumPy Methods\n"
          ]
        },
        {
          "output_type": "execute_result",
          "data": {
            "text/plain": [
              "array([3])"
            ]
          },
          "metadata": {},
          "execution_count": 1
        }
      ],
      "source": [
        "import numpy as np\n",
        "\n",
        "# 1. Array Creation Techniques\n",
        "print(\"1. Array Creation Techniques\")\n",
        "\n",
        "# a. Creating an array from a list\n",
        "array_from_list = np.array([1, 2, 3, 4, 5])\n",
        "array_from_list\n",
        "\n",
        "# b. Using arange()\n",
        "array_arange = np.arange(0, 10, 2)\n",
        "array_arange\n",
        "\n",
        "# c. Using linspace()\n",
        "array_linspace = np.linspace(0, 10, 5)  # Divides 0 to 10 into 5 points\n",
        "array_linspace\n",
        "\n",
        "# d. Using zeros()\n",
        "array_zeros = np.zeros((3, 3))\n",
        "array_zeros\n",
        "\n",
        "# e. Using ones()\n",
        "array_ones = np.ones((2, 2))\n",
        "array_ones\n",
        "\n",
        "# f. Using eye() for identity matrix\n",
        "array_eye = np.eye(3)\n",
        "array_eye\n",
        "\n",
        "# g. Using random() for random values\n",
        "array_random = np.random.random((3, 3))\n",
        "array_random\n",
        "\n",
        "# 2. Different NumPy Methods\n",
        "print(\"\\n2. NumPy Methods\")\n",
        "\n",
        "# a. Reshaping an array\n",
        "reshaped_array = np.arange(1, 10).reshape(3, 3)\n",
        "reshaped_array\n",
        "\n",
        "# b. Transposing an array\n",
        "transposed_array = reshaped_array.T\n",
        "transposed_array\n",
        "\n",
        "# c. Mathematical operations\n",
        "array_math = np.array([1, 2, 3])\n",
        "array_math + 2\n",
        "array_math * 3\n",
        "np.sqrt(array_math)\n",
        "\n",
        "# d. Aggregation methods\n",
        "np.sum(array_math)\n",
        "np.mean(array_math)\n",
        "np.max(array_math)\n",
        "np.min(array_math)\n",
        "\n",
        "# e. Concatenation of arrays\n",
        "array_a = np.array([1, 2, 3])\n",
        "array_b = np.array([4, 5, 6])\n",
        "concat_array = np.concatenate((array_a, array_b))\n",
        "concat_array\n",
        "\n",
        "# f. Sorting an array\n",
        "unsorted_array = np.array([3, 1, 4, 2])\n",
        "sorted_array = np.sort(unsorted_array)\n",
        "sorted_array\n",
        "\n",
        "# g. Indexing and Slicing\n",
        "indexed_value = array_math[1]  # Indexing\n",
        "indexed_value\n",
        "sliced_array = array_math[1:3]  # Slicing\n",
        "sliced_array\n",
        "\n",
        "# h. Boolean Masking\n",
        "boolean_mask = array_math > 2\n",
        "boolean_mask\n",
        "array_math[boolean_mask]"
      ]
    }
  ]
}
