{
  "nbformat": 4,
  "nbformat_minor": 0,
  "metadata": {
    "colab": {
      "provenance": []
    },
    "kernelspec": {
      "name": "python3",
      "display_name": "Python 3"
    },
    "language_info": {
      "name": "python"
    }
  },
  "cells": [
    {
      "cell_type": "markdown",
      "source": [
        "**Experiment09**"
      ],
      "metadata": {
        "id": "HMxgNtx4j62A"
      }
    },
    {
      "cell_type": "markdown",
      "source": [
        "**20_Archita Gupta**"
      ],
      "metadata": {
        "id": "99D2ShX0j1C4"
      }
    },
    {
      "cell_type": "code",
      "execution_count": 2,
      "metadata": {
        "colab": {
          "base_uri": "https://localhost:8080/"
        },
        "id": "5TBN3_WQjied",
        "outputId": "9e9bffbd-b34f-4f1c-8f9d-94ba13404d5e"
      },
      "outputs": [
        {
          "output_type": "stream",
          "name": "stdout",
          "text": [
            "1. Array Creation Techniques\n",
            "[1 2 3 4 5]\n",
            "[0 2 4 6 8]\n",
            "[ 0.   2.5  5.   7.5 10. ]\n",
            "[[0. 0. 0.]\n",
            " [0. 0. 0.]\n",
            " [0. 0. 0.]]\n",
            "[[1. 1.]\n",
            " [1. 1.]]\n",
            "[[1. 0. 0.]\n",
            " [0. 1. 0.]\n",
            " [0. 0. 1.]]\n",
            "[[0.22768039 0.14634216 0.86020562]\n",
            " [0.46512935 0.74796634 0.38405259]\n",
            " [0.75529847 0.82746998 0.63311886]]\n",
            "\n",
            "2. NumPy Methods\n",
            "[[1 2 3]\n",
            " [4 5 6]\n",
            " [7 8 9]]\n",
            "[[1 4 7]\n",
            " [2 5 8]\n",
            " [3 6 9]]\n",
            "[1 2 3 4 5 6]\n",
            "[1 2 3 4]\n",
            "[2 3]\n"
          ]
        },
        {
          "output_type": "execute_result",
          "data": {
            "text/plain": [
              "array([3])"
            ]
          },
          "metadata": {},
          "execution_count": 2
        }
      ],
      "source": [
        "import numpy as np\n",
        "\n",
        "# 1. Array Creation Techniques\n",
        "print(\"1. Array Creation Techniques\")\n",
        "\n",
        "# a. Creating an array from a list\n",
        "array_from_list = np.array([1, 2, 3, 4, 5])\n",
        "print(array_from_list)\n",
        "\n",
        "# b. Using arange()\n",
        "array_arange = np.arange(0, 10, 2)\n",
        "print(array_arange)\n",
        "\n",
        "# c. Using linspace()\n",
        "array_linspace = np.linspace(0, 10, 5)  # Divides 0 to 10 into 5 points\n",
        "print(array_linspace)\n",
        "\n",
        "# d. Using zeros()\n",
        "array_zeros = np.zeros((3, 3))\n",
        "print(array_zeros)\n",
        "\n",
        "# e. Using ones()\n",
        "array_ones = np.ones((2, 2))\n",
        "print(array_ones)\n",
        "\n",
        "# f. Using eye() for identity matrix\n",
        "array_eye = np.eye(3)\n",
        "print(array_eye)\n",
        "\n",
        "# g. Using random() for random values\n",
        "array_random = np.random.random((3, 3))\n",
        "print(array_random)\n",
        "\n",
        "# 2. Different NumPy Methods\n",
        "print(\"\\n2. NumPy Methods\")\n",
        "\n",
        "# a. Reshaping an array\n",
        "reshaped_array = np.arange(1, 10).reshape(3, 3)\n",
        "print(reshaped_array)\n",
        "\n",
        "# b. Transposing an array\n",
        "transposed_array = reshaped_array.T\n",
        "print(transposed_array)\n",
        "\n",
        "# c. Mathematical operations\n",
        "array_math = np.array([1, 2, 3])\n",
        "array_math + 2\n",
        "array_math * 3\n",
        "np.sqrt(array_math)\n",
        "\n",
        "# d. Aggregation methods\n",
        "np.sum(array_math)\n",
        "np.mean(array_math)\n",
        "np.max(array_math)\n",
        "np.min(array_math)\n",
        "\n",
        "# e. Concatenation of arrays\n",
        "array_a = np.array([1, 2, 3])\n",
        "array_b = np.array([4, 5, 6])\n",
        "concat_array = np.concatenate((array_a, array_b))\n",
        "print(concat_array)\n",
        "\n",
        "# f. Sorting an array\n",
        "unsorted_array = np.array([3, 1, 4, 2])\n",
        "sorted_array = np.sort(unsorted_array)\n",
        "print(sorted_array)\n",
        "\n",
        "# g. Indexing and Slicing\n",
        "indexed_value = array_math[1]  # Indexing\n",
        "indexed_value\n",
        "sliced_array = array_math[1:3]  # Slicing\n",
        "print(sliced_array)\n",
        "\n",
        "# h. Boolean Masking\n",
        "boolean_mask = array_math > 2\n",
        "boolean_mask\n",
        "array_math[boolean_mask]"
      ]
    }
  ]
}
